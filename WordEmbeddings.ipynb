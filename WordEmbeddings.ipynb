{
  "nbformat": 4,
  "nbformat_minor": 0,
  "metadata": {
    "colab": {
      "name": "WordEmbeddings.ipynb",
      "version": "0.3.2",
      "provenance": [],
      "include_colab_link": true
    },
    "kernelspec": {
      "display_name": "Python 3",
      "language": "python",
      "name": "python3"
    }
  },
  "cells": [
    {
      "cell_type": "markdown",
      "metadata": {
        "id": "view-in-github",
        "colab_type": "text"
      },
      "source": [
        "<a href=\"https://colab.research.google.com/github/sn2786/TSE/blob/master/WordEmbeddings.ipynb\" target=\"_parent\"><img src=\"https://colab.research.google.com/assets/colab-badge.svg\" alt=\"Open In Colab\"/></a>"
      ]
    },
    {
      "metadata": {
        "id": "VXVqfwqgy-dP",
        "colab_type": "code",
        "outputId": "fe968926-ff4e-4e5a-ebe3-0c9e93f180aa",
        "colab": {
          "resources": {
            "http://localhost:8080/nbextensions/google.colab/files.js": {
              "data": "Ly8gQ29weXJpZ2h0IDIwMTcgR29vZ2xlIExMQwovLwovLyBMaWNlbnNlZCB1bmRlciB0aGUgQXBhY2hlIExpY2Vuc2UsIFZlcnNpb24gMi4wICh0aGUgIkxpY2Vuc2UiKTsKLy8geW91IG1heSBub3QgdXNlIHRoaXMgZmlsZSBleGNlcHQgaW4gY29tcGxpYW5jZSB3aXRoIHRoZSBMaWNlbnNlLgovLyBZb3UgbWF5IG9idGFpbiBhIGNvcHkgb2YgdGhlIExpY2Vuc2UgYXQKLy8KLy8gICAgICBodHRwOi8vd3d3LmFwYWNoZS5vcmcvbGljZW5zZXMvTElDRU5TRS0yLjAKLy8KLy8gVW5sZXNzIHJlcXVpcmVkIGJ5IGFwcGxpY2FibGUgbGF3IG9yIGFncmVlZCB0byBpbiB3cml0aW5nLCBzb2Z0d2FyZQovLyBkaXN0cmlidXRlZCB1bmRlciB0aGUgTGljZW5zZSBpcyBkaXN0cmlidXRlZCBvbiBhbiAiQVMgSVMiIEJBU0lTLAovLyBXSVRIT1VUIFdBUlJBTlRJRVMgT1IgQ09ORElUSU9OUyBPRiBBTlkgS0lORCwgZWl0aGVyIGV4cHJlc3Mgb3IgaW1wbGllZC4KLy8gU2VlIHRoZSBMaWNlbnNlIGZvciB0aGUgc3BlY2lmaWMgbGFuZ3VhZ2UgZ292ZXJuaW5nIHBlcm1pc3Npb25zIGFuZAovLyBsaW1pdGF0aW9ucyB1bmRlciB0aGUgTGljZW5zZS4KCi8qKgogKiBAZmlsZW92ZXJ2aWV3IEhlbHBlcnMgZm9yIGdvb2dsZS5jb2xhYiBQeXRob24gbW9kdWxlLgogKi8KKGZ1bmN0aW9uKHNjb3BlKSB7CmZ1bmN0aW9uIHNwYW4odGV4dCwgc3R5bGVBdHRyaWJ1dGVzID0ge30pIHsKICBjb25zdCBlbGVtZW50ID0gZG9jdW1lbnQuY3JlYXRlRWxlbWVudCgnc3BhbicpOwogIGVsZW1lbnQudGV4dENvbnRlbnQgPSB0ZXh0OwogIGZvciAoY29uc3Qga2V5IG9mIE9iamVjdC5rZXlzKHN0eWxlQXR0cmlidXRlcykpIHsKICAgIGVsZW1lbnQuc3R5bGVba2V5XSA9IHN0eWxlQXR0cmlidXRlc1trZXldOwogIH0KICByZXR1cm4gZWxlbWVudDsKfQoKLy8gTWF4IG51bWJlciBvZiBieXRlcyB3aGljaCB3aWxsIGJlIHVwbG9hZGVkIGF0IGEgdGltZS4KY29uc3QgTUFYX1BBWUxPQURfU0laRSA9IDEwMCAqIDEwMjQ7Ci8vIE1heCBhbW91bnQgb2YgdGltZSB0byBibG9jayB3YWl0aW5nIGZvciB0aGUgdXNlci4KY29uc3QgRklMRV9DSEFOR0VfVElNRU9VVF9NUyA9IDMwICogMTAwMDsKCmZ1bmN0aW9uIF91cGxvYWRGaWxlcyhpbnB1dElkLCBvdXRwdXRJZCkgewogIGNvbnN0IHN0ZXBzID0gdXBsb2FkRmlsZXNTdGVwKGlucHV0SWQsIG91dHB1dElkKTsKICBjb25zdCBvdXRwdXRFbGVtZW50ID0gZG9jdW1lbnQuZ2V0RWxlbWVudEJ5SWQob3V0cHV0SWQpOwogIC8vIENhY2hlIHN0ZXBzIG9uIHRoZSBvdXRwdXRFbGVtZW50IHRvIG1ha2UgaXQgYXZhaWxhYmxlIGZvciB0aGUgbmV4dCBjYWxsCiAgLy8gdG8gdXBsb2FkRmlsZXNDb250aW51ZSBmcm9tIFB5dGhvbi4KICBvdXRwdXRFbGVtZW50LnN0ZXBzID0gc3RlcHM7CgogIHJldHVybiBfdXBsb2FkRmlsZXNDb250aW51ZShvdXRwdXRJZCk7Cn0KCi8vIFRoaXMgaXMgcm91Z2hseSBhbiBhc3luYyBnZW5lcmF0b3IgKG5vdCBzdXBwb3J0ZWQgaW4gdGhlIGJyb3dzZXIgeWV0KSwKLy8gd2hlcmUgdGhlcmUgYXJlIG11bHRpcGxlIGFzeW5jaHJvbm91cyBzdGVwcyBhbmQgdGhlIFB5dGhvbiBzaWRlIGlzIGdvaW5nCi8vIHRvIHBvbGwgZm9yIGNvbXBsZXRpb24gb2YgZWFjaCBzdGVwLgovLyBUaGlzIHVzZXMgYSBQcm9taXNlIHRvIGJsb2NrIHRoZSBweXRob24gc2lkZSBvbiBjb21wbGV0aW9uIG9mIGVhY2ggc3RlcCwKLy8gdGhlbiBwYXNzZXMgdGhlIHJlc3VsdCBvZiB0aGUgcHJldmlvdXMgc3RlcCBhcyB0aGUgaW5wdXQgdG8gdGhlIG5leHQgc3RlcC4KZnVuY3Rpb24gX3VwbG9hZEZpbGVzQ29udGludWUob3V0cHV0SWQpIHsKICBjb25zdCBvdXRwdXRFbGVtZW50ID0gZG9jdW1lbnQuZ2V0RWxlbWVudEJ5SWQob3V0cHV0SWQpOwogIGNvbnN0IHN0ZXBzID0gb3V0cHV0RWxlbWVudC5zdGVwczsKCiAgY29uc3QgbmV4dCA9IHN0ZXBzLm5leHQob3V0cHV0RWxlbWVudC5sYXN0UHJvbWlzZVZhbHVlKTsKICByZXR1cm4gUHJvbWlzZS5yZXNvbHZlKG5leHQudmFsdWUucHJvbWlzZSkudGhlbigodmFsdWUpID0+IHsKICAgIC8vIENhY2hlIHRoZSBsYXN0IHByb21pc2UgdmFsdWUgdG8gbWFrZSBpdCBhdmFpbGFibGUgdG8gdGhlIG5leHQKICAgIC8vIHN0ZXAgb2YgdGhlIGdlbmVyYXRvci4KICAgIG91dHB1dEVsZW1lbnQubGFzdFByb21pc2VWYWx1ZSA9IHZhbHVlOwogICAgcmV0dXJuIG5leHQudmFsdWUucmVzcG9uc2U7CiAgfSk7Cn0KCi8qKgogKiBHZW5lcmF0b3IgZnVuY3Rpb24gd2hpY2ggaXMgY2FsbGVkIGJldHdlZW4gZWFjaCBhc3luYyBzdGVwIG9mIHRoZSB1cGxvYWQKICogcHJvY2Vzcy4KICogQHBhcmFtIHtzdHJpbmd9IGlucHV0SWQgRWxlbWVudCBJRCBvZiB0aGUgaW5wdXQgZmlsZSBwaWNrZXIgZWxlbWVudC4KICogQHBhcmFtIHtzdHJpbmd9IG91dHB1dElkIEVsZW1lbnQgSUQgb2YgdGhlIG91dHB1dCBkaXNwbGF5LgogKiBAcmV0dXJuIHshSXRlcmFibGU8IU9iamVjdD59IEl0ZXJhYmxlIG9mIG5leHQgc3RlcHMuCiAqLwpmdW5jdGlvbiogdXBsb2FkRmlsZXNTdGVwKGlucHV0SWQsIG91dHB1dElkKSB7CiAgY29uc3QgaW5wdXRFbGVtZW50ID0gZG9jdW1lbnQuZ2V0RWxlbWVudEJ5SWQoaW5wdXRJZCk7CiAgaW5wdXRFbGVtZW50LmRpc2FibGVkID0gZmFsc2U7CgogIGNvbnN0IG91dHB1dEVsZW1lbnQgPSBkb2N1bWVudC5nZXRFbGVtZW50QnlJZChvdXRwdXRJZCk7CiAgb3V0cHV0RWxlbWVudC5pbm5lckhUTUwgPSAnJzsKCiAgY29uc3QgcGlja2VkUHJvbWlzZSA9IG5ldyBQcm9taXNlKChyZXNvbHZlKSA9PiB7CiAgICBpbnB1dEVsZW1lbnQuYWRkRXZlbnRMaXN0ZW5lcignY2hhbmdlJywgKGUpID0+IHsKICAgICAgcmVzb2x2ZShlLnRhcmdldC5maWxlcyk7CiAgICB9KTsKICB9KTsKCiAgY29uc3QgY2FuY2VsID0gZG9jdW1lbnQuY3JlYXRlRWxlbWVudCgnYnV0dG9uJyk7CiAgaW5wdXRFbGVtZW50LnBhcmVudEVsZW1lbnQuYXBwZW5kQ2hpbGQoY2FuY2VsKTsKICBjYW5jZWwudGV4dENvbnRlbnQgPSAnQ2FuY2VsIHVwbG9hZCc7CiAgY29uc3QgY2FuY2VsUHJvbWlzZSA9IG5ldyBQcm9taXNlKChyZXNvbHZlKSA9PiB7CiAgICBjYW5jZWwub25jbGljayA9ICgpID0+IHsKICAgICAgcmVzb2x2ZShudWxsKTsKICAgIH07CiAgfSk7CgogIC8vIENhbmNlbCB1cGxvYWQgaWYgdXNlciBoYXNuJ3QgcGlja2VkIGFueXRoaW5nIGluIHRpbWVvdXQuCiAgY29uc3QgdGltZW91dFByb21pc2UgPSBuZXcgUHJvbWlzZSgocmVzb2x2ZSkgPT4gewogICAgc2V0VGltZW91dCgoKSA9PiB7CiAgICAgIHJlc29sdmUobnVsbCk7CiAgICB9LCBGSUxFX0NIQU5HRV9USU1FT1VUX01TKTsKICB9KTsKCiAgLy8gV2FpdCBmb3IgdGhlIHVzZXIgdG8gcGljayB0aGUgZmlsZXMuCiAgY29uc3QgZmlsZXMgPSB5aWVsZCB7CiAgICBwcm9taXNlOiBQcm9taXNlLnJhY2UoW3BpY2tlZFByb21pc2UsIHRpbWVvdXRQcm9taXNlLCBjYW5jZWxQcm9taXNlXSksCiAgICByZXNwb25zZTogewogICAgICBhY3Rpb246ICdzdGFydGluZycsCiAgICB9CiAgfTsKCiAgaWYgKCFmaWxlcykgewogICAgcmV0dXJuIHsKICAgICAgcmVzcG9uc2U6IHsKICAgICAgICBhY3Rpb246ICdjb21wbGV0ZScsCiAgICAgIH0KICAgIH07CiAgfQoKICBjYW5jZWwucmVtb3ZlKCk7CgogIC8vIERpc2FibGUgdGhlIGlucHV0IGVsZW1lbnQgc2luY2UgZnVydGhlciBwaWNrcyBhcmUgbm90IGFsbG93ZWQuCiAgaW5wdXRFbGVtZW50LmRpc2FibGVkID0gdHJ1ZTsKCiAgZm9yIChjb25zdCBmaWxlIG9mIGZpbGVzKSB7CiAgICBjb25zdCBsaSA9IGRvY3VtZW50LmNyZWF0ZUVsZW1lbnQoJ2xpJyk7CiAgICBsaS5hcHBlbmQoc3BhbihmaWxlLm5hbWUsIHtmb250V2VpZ2h0OiAnYm9sZCd9KSk7CiAgICBsaS5hcHBlbmQoc3BhbigKICAgICAgICBgKCR7ZmlsZS50eXBlIHx8ICduL2EnfSkgLSAke2ZpbGUuc2l6ZX0gYnl0ZXMsIGAgKwogICAgICAgIGBsYXN0IG1vZGlmaWVkOiAkewogICAgICAgICAgICBmaWxlLmxhc3RNb2RpZmllZERhdGUgPyBmaWxlLmxhc3RNb2RpZmllZERhdGUudG9Mb2NhbGVEYXRlU3RyaW5nKCkgOgogICAgICAgICAgICAgICAgICAgICAgICAgICAgICAgICAgICAnbi9hJ30gLSBgKSk7CiAgICBjb25zdCBwZXJjZW50ID0gc3BhbignMCUgZG9uZScpOwogICAgbGkuYXBwZW5kQ2hpbGQocGVyY2VudCk7CgogICAgb3V0cHV0RWxlbWVudC5hcHBlbmRDaGlsZChsaSk7CgogICAgY29uc3QgZmlsZURhdGFQcm9taXNlID0gbmV3IFByb21pc2UoKHJlc29sdmUpID0+IHsKICAgICAgY29uc3QgcmVhZGVyID0gbmV3IEZpbGVSZWFkZXIoKTsKICAgICAgcmVhZGVyLm9ubG9hZCA9IChlKSA9PiB7CiAgICAgICAgcmVzb2x2ZShlLnRhcmdldC5yZXN1bHQpOwogICAgICB9OwogICAgICByZWFkZXIucmVhZEFzQXJyYXlCdWZmZXIoZmlsZSk7CiAgICB9KTsKICAgIC8vIFdhaXQgZm9yIHRoZSBkYXRhIHRvIGJlIHJlYWR5LgogICAgbGV0IGZpbGVEYXRhID0geWllbGQgewogICAgICBwcm9taXNlOiBmaWxlRGF0YVByb21pc2UsCiAgICAgIHJlc3BvbnNlOiB7CiAgICAgICAgYWN0aW9uOiAnY29udGludWUnLAogICAgICB9CiAgICB9OwoKICAgIC8vIFVzZSBhIGNodW5rZWQgc2VuZGluZyB0byBhdm9pZCBtZXNzYWdlIHNpemUgbGltaXRzLiBTZWUgYi82MjExNTY2MC4KICAgIGxldCBwb3NpdGlvbiA9IDA7CiAgICB3aGlsZSAocG9zaXRpb24gPCBmaWxlRGF0YS5ieXRlTGVuZ3RoKSB7CiAgICAgIGNvbnN0IGxlbmd0aCA9IE1hdGgubWluKGZpbGVEYXRhLmJ5dGVMZW5ndGggLSBwb3NpdGlvbiwgTUFYX1BBWUxPQURfU0laRSk7CiAgICAgIGNvbnN0IGNodW5rID0gbmV3IFVpbnQ4QXJyYXkoZmlsZURhdGEsIHBvc2l0aW9uLCBsZW5ndGgpOwogICAgICBwb3NpdGlvbiArPSBsZW5ndGg7CgogICAgICBjb25zdCBiYXNlNjQgPSBidG9hKFN0cmluZy5mcm9tQ2hhckNvZGUuYXBwbHkobnVsbCwgY2h1bmspKTsKICAgICAgeWllbGQgewogICAgICAgIHJlc3BvbnNlOiB7CiAgICAgICAgICBhY3Rpb246ICdhcHBlbmQnLAogICAgICAgICAgZmlsZTogZmlsZS5uYW1lLAogICAgICAgICAgZGF0YTogYmFzZTY0LAogICAgICAgIH0sCiAgICAgIH07CiAgICAgIHBlcmNlbnQudGV4dENvbnRlbnQgPQogICAgICAgICAgYCR7TWF0aC5yb3VuZCgocG9zaXRpb24gLyBmaWxlRGF0YS5ieXRlTGVuZ3RoKSAqIDEwMCl9JSBkb25lYDsKICAgIH0KICB9CgogIC8vIEFsbCBkb25lLgogIHlpZWxkIHsKICAgIHJlc3BvbnNlOiB7CiAgICAgIGFjdGlvbjogJ2NvbXBsZXRlJywKICAgIH0KICB9Owp9CgpzY29wZS5nb29nbGUgPSBzY29wZS5nb29nbGUgfHwge307CnNjb3BlLmdvb2dsZS5jb2xhYiA9IHNjb3BlLmdvb2dsZS5jb2xhYiB8fCB7fTsKc2NvcGUuZ29vZ2xlLmNvbGFiLl9maWxlcyA9IHsKICBfdXBsb2FkRmlsZXMsCiAgX3VwbG9hZEZpbGVzQ29udGludWUsCn07Cn0pKHNlbGYpOwo=",
              "ok": true,
              "headers": [
                [
                  "content-type",
                  "application/javascript"
                ]
              ],
              "status": 200,
              "status_text": ""
            }
          },
          "base_uri": "https://localhost:8080/",
          "height": 71
        }
      },
      "cell_type": "code",
      "source": [
        "from google.colab import files\n",
        "\n",
        "up = files.upload()\n"
      ],
      "execution_count": 0,
      "outputs": [
        {
          "output_type": "display_data",
          "data": {
            "text/html": [
              "\n",
              "     <input type=\"file\" id=\"files-508ea5ed-ee6c-4afa-b62a-8cd3629cd47e\" name=\"files[]\" multiple disabled />\n",
              "     <output id=\"result-508ea5ed-ee6c-4afa-b62a-8cd3629cd47e\">\n",
              "      Upload widget is only available when the cell has been executed in the\n",
              "      current browser session. Please rerun this cell to enable.\n",
              "      </output>\n",
              "      <script src=\"/nbextensions/google.colab/files.js\"></script> "
            ],
            "text/plain": [
              "<IPython.core.display.HTML object>"
            ]
          },
          "metadata": {
            "tags": []
          }
        },
        {
          "output_type": "stream",
          "text": [
            "Saving my.json to my.json\n"
          ],
          "name": "stdout"
        }
      ]
    },
    {
      "metadata": {
        "id": "PCyemIh9NHm-",
        "colab_type": "code",
        "colab": {}
      },
      "cell_type": "code",
      "source": [
        ""
      ],
      "execution_count": 0,
      "outputs": []
    },
    {
      "metadata": {
        "id": "GNdtPckRzZHn",
        "colab_type": "code",
        "outputId": "7b8c9942-1931-4ea6-b3c9-71a2a387e68d",
        "colab": {
          "base_uri": "https://localhost:8080/",
          "height": 2346
        }
      },
      "cell_type": "code",
      "source": [
        "import json\n",
        "import spacy\n",
        "\n",
        "from pprint import pprint\n",
        "\n",
        "with open('my.json') as f:\n",
        "    data = json.load(f)\n",
        "\n",
        "i=0\n",
        "for d in data:\n",
        "  print(i, d['commit']['message'])\n",
        "  i+=1"
      ],
      "execution_count": 0,
      "outputs": [
        {
          "output_type": "stream",
          "text": [
            "0 Updated readme to include blog mention\n",
            "1 2.0.2 derp\n",
            "2 make docs again for 2.0.2\n",
            "3 2.0.2\n",
            "4 remove test file\n",
            "5 remove commented out width\n",
            "6 remove collapse class on open so that dropdowns are viewable\n",
            "7 can't have overflo: visible for \"in\" which is present during entirity of transition.\n",
            "8 button group sizes for ie7 fixes\n",
            "9 adding border variable for dropdowns, making dropdown carets use dropdown vars\n",
            "10 improve button docs\n",
            "11 fix apple touch icons in examples\n",
            "12 add a super jank fix for horizontal-forms and .input-prepend/append in IE7\n",
            "13 enable buttons in input-append and input-prepend\n",
            "14 more homepage links cleanup, ditching the middots\n",
            "15 more homepage links cleanup\n",
            "16 clean up links on docs homepage and add link to direct download with docs\n",
            "17 resolve #1972, allowing add-ons at beginning and end of input-prepend/append\n",
            "18 fix more spacing issues with input append/prepend\n",
            "19 simplify code for input-prepend/append in inline and search forms\n",
            "20 remove need for floats and IE hacks for input-prepend and input-append--boom\n",
            "21 rewrite the fluid grid mixin to be simpler, per #2370\n",
            "22 fix overflow on .collapse.in to enable dropdowns within an open collapse\n",
            "23 enable button groups in modal-footer by removing 5px added margin between .btn\n",
            "24 merge #2476 to allow for custom popover arrow colors\n",
            "25 Merge branch 'luk3thomas-popover_arrow_colors' into 2.0.2-wip\n",
            "26 fix vertical align issue with labels in IE9\n",
            "27 add block level input mixin for border-box box-sizing\n",
            "28 remove text indent on carets (not needed) and add inline replacement mixin\n",
            "29 remove the unused text-indent on dropdown carets\n",
            "30 fix broken dropdowns in ie7 per #2333\n",
            "31 fix lingering tables bug\n",
            "32 fix table border bug with double borders on theads and use of colgroup\n",
            "33 use variable for navbar text line-height\n",
            "34 Merge branch 'zerkms-master' into 2.0.2-wip\n",
            "\n",
            "Conflicts:\n",
            "\tMakefile\n",
            "35 updated apple touch icons and moved input responsive fix from <480 to <767\n",
            "36 fix overflowing thumbnails in responsive <767px layouts\n",
            "37 in responsive layouts <767px, ensure inputs are not larger than 100% with box-sizing and a max-width\n",
            "38 Grammar fix in js/README.md\n",
            "39 vertical align middle on images, run make to rebuild\n",
            "40 Merge branch 'Gavrisimo-patch-1' into 2.0.2-wip\n",
            "41 update grid system mixins in less docs for new grid\n",
            "42 tweak button sizes on homepage\n",
            "43 ensure right align dropdown example doesn't go all the way off page\n",
            "44 fix gradient mixins by escaping them, add notes on progress bars\n",
            "45 fix js typo per #2471\n",
            "46 Merge pull request #2503 from maxbublik/patch-1\n",
            "\n",
            "ignore Apple Double files\n",
            "47 add vars for navbar search\n",
            "48 clean up search form in navbar, add new variable for placeholder text color\n",
            "49 fix #2510, docs typo\n",
            "50 massive update to customize page to include all the new variables (and ensure they're being used in the .less files)\n",
            "51 simplify notes around using button dropdowns\n",
            "52 remove unused images, update examples to include soundready\n",
            "53 add new example site thumbnail\n",
            "54 change title attr to re-include twitter\n",
            "55 remove unused example diagrams\n",
            "56 make pre font-size a percentage of @baseFontSize\n",
            "57 fix typo per #2494\n",
            "58 Merge branch '2.0.2-wip' of github.com:twitter/bootstrap into 2.0.2-wip\n",
            "\n",
            "Conflicts:\n",
            "\tdocs/assets/bootstrap.zip\n",
            "59 add button sizes to docs for button dropdowns, clean up styles for them\n",
            "60 make nav padding and negative margins the same\n",
            "61 stop doing oldschool escape substitution\n",
            "62 rebuild with latest grid changes - need 1.3 to build!\n",
            "63 Merge branch '2.0.2-wip' of github.com:twitter/bootstrap into 2.0.2-wip\n",
            "\n",
            "Conflicts:\n",
            "\tdocs/assets/bootstrap.zip\n",
            "\tdocs/assets/css/bootstrap-responsive.css\n",
            "\tdocs/assets/css/bootstrap.css\n",
            "64 Merge branch 'new_grid' into 2.0.2-wip\n",
            "\n",
            "Conflicts:\n",
            "\tdocs/assets/bootstrap.zip\n",
            "\tdocs/assets/css/bootstrap-responsive.css\n",
            "\tdocs/assets/css/bootstrap.css\n",
            "\tless/mixins.less\n",
            "65 ignore Apple Double files\n",
            "66 simplify buttons docs section by changing a buttons to button elements\n",
            "67 rebold headings\n",
            "68 fix the font-family var by using inherit instead of empty string, fix font-weight in docs for jumbotron\n",
            "69 Merge branch '2.0.2-wip' of github.com:twitter/bootstrap into 2.0.2-wip\n",
            "\n",
            "Conflicts:\n",
            "\tdocs/assets/bootstrap.zip\n",
            "70 clear up nav variables\n",
            "71 Merge pull request #2480 from jonathanmaron/master\n",
            "\n",
            "fat\n",
            "72 Add `vertical-align: middle;` to `img` elements\r\n",
            "\r\n",
            "More info: h5bp.com/i/440\n",
            "73 Fixed double copy action in Makefile.\n",
            "74 added ability to set custom colors for popover arrow mixin\n",
            "75 remove non existent dist dir from phony makefil\n",
            "76 rebuild\n",
            "77 Merge branch '2.0.2-wip' of github.com:twitter/bootstrap into 2.0.2-wip\n",
            "78 add version to min js\n",
            "79 Merge pull request #2177 from phopkins/typeahead_friendly\n",
            "\n",
            "[2.0.2-wip] Typeahead friendly\n",
            "80 give pages custom titles based on names\n",
            "81 Merge pull request #2449 from burningTyger/master\n",
            "\n",
            "Examples typo\n",
            "82 fix for typo\n",
            "83 Merge pull request #2443 from tarsis/master\n",
            "\n",
            "uglify-js install information in compiling section at less.html. Improve issue #1756 in 2.0.2 wip\n",
            "84 Merge branch '2.0.2-wip' of github.com:twitter/bootstrap into 2.0.2-wip\n",
            "85 Merge pull request #2436 from gruvii/2.0.2-wip\n",
            "\n",
            "Add new headings vars to type.less\n",
            "86 set font-family for inputs and such via basefontfamily\n",
            "87 adding well sizes\n",
            "88 Added use of new headings variables.\n",
            "89 move padding from container to body for max-width: 767; responsive layout\n",
            "90 Merge branch 'davewasmer-master' into 2.0.2-wip\n",
            "91 fix input grid sizing, fix background color on form actions and append add-ons\n",
            "92 clearing up progress bar docs and resetting the striped one to match default bar (blue instead of green)\n",
            "93 adding table variables\n",
            "94 Merge branch 'charettes-small-button-dropdowns-caret' into 2.0.2-wip\n",
            "\n",
            "Conflicts:\n",
            "\tless/dropdowns.less\n",
            "95 fix comment on bottom-up, should be dropup\n",
            "96 change dropdown hover/active color back to link color\n",
            "97 increase specifity of .pills li.active for dropdowns\n",
            "98 fix warning button issue per #2392 and add warning buttons to components\n",
            "99 clean up horizontal dl option and docs\n"
          ],
          "name": "stdout"
        }
      ]
    },
    {
      "metadata": {
        "id": "X_ABHr83wAK-",
        "colab_type": "code",
        "colab": {}
      },
      "cell_type": "code",
      "source": [
        "import os\n",
        "import nltk\n",
        "from tqdm import tqdm\n",
        "import numpy as np\n",
        "import gensim\n",
        "import string\n",
        "import pandas as pd"
      ],
      "execution_count": 0,
      "outputs": []
    },
    {
      "metadata": {
        "id": "mU0OROvuwALF",
        "colab_type": "code",
        "outputId": "7081ce11-54c8-4d1a-e41c-517ffb4f290a",
        "colab": {
          "base_uri": "https://localhost:8080/",
          "height": 71
        }
      },
      "cell_type": "code",
      "source": [
        "sentences = []\n",
        "for d in data:\n",
        "  sentences.append(d['commit']['message'])\n",
        "\n",
        "  \n",
        "preprocessed_sentence = []\n",
        "for sentence in sentences:\n",
        "  preprocessed_sentence.append(gensim.utils.simple_preprocess(sentence))\n",
        "\n",
        "#for sentence in preprocessed_sentence:\n",
        "print(len(preprocessed_sentence))\n",
        "print(preprocessed_sentence[63])"
      ],
      "execution_count": 0,
      "outputs": [
        {
          "output_type": "stream",
          "text": [
            "100\n",
            "['merge', 'branch', 'wip', 'of', 'github', 'com', 'twitter', 'bootstrap', 'into', 'wip', 'conflicts', 'docs', 'assets', 'bootstrap', 'zip', 'docs', 'assets', 'css', 'bootstrap', 'responsive', 'css', 'docs', 'assets', 'css', 'bootstrap', 'css']\n"
          ],
          "name": "stdout"
        }
      ]
    },
    {
      "metadata": {
        "id": "4wYRAQsxwALI",
        "colab_type": "code",
        "colab": {}
      },
      "cell_type": "code",
      "source": [
        "model = gensim.models.Word2Vec(preprocessed_sentence, size=150, window=1, min_count=1)"
      ],
      "execution_count": 0,
      "outputs": []
    },
    {
      "metadata": {
        "id": "TD8cyZ2pwALL",
        "colab_type": "code",
        "outputId": "76fd639f-21f1-4ad9-b30a-a4eed91a6ffd",
        "colab": {
          "base_uri": "https://localhost:8080/",
          "height": 34
        }
      },
      "cell_type": "code",
      "source": [
        "sentence_vectors = []\n",
        "for sentence in preprocessed_sentence:\n",
        "  vector = np.zeros(150)\n",
        "  for word in sentence:\n",
        "    if word in model.wv:\n",
        "      vector += np.array(model.wv[word])    \n",
        "  sentence_vectors.append(vector)\n",
        "\n",
        "print(np.shape(sentence_vectors))"
      ],
      "execution_count": 0,
      "outputs": [
        {
          "output_type": "stream",
          "text": [
            "(100, 150)\n"
          ],
          "name": "stdout"
        }
      ]
    },
    {
      "metadata": {
        "id": "2G_FHatQ4DsH",
        "colab_type": "code",
        "outputId": "126e5a79-2700-4010-c0ae-9f77b22fb8ea",
        "colab": {
          "base_uri": "https://localhost:8080/",
          "height": 34
        }
      },
      "cell_type": "code",
      "source": [
        "bug = 'merged branch not working'\n",
        "preprocessed_bug = gensim.utils.simple_preprocess(bug)\n",
        "bug_vector = None\n",
        "for word in preprocessed_bug:\n",
        "  if word in model.wv:\n",
        "    if bug_vector is None:\n",
        "      bug_vector = np.array(model.wv[word])\n",
        "    else:\n",
        "      bug_vector += np.array(model.wv[word])\n",
        "\n",
        "print(np.shape(bug_vector))\n",
        "\n"
      ],
      "execution_count": 0,
      "outputs": [
        {
          "output_type": "stream",
          "text": [
            "(150,)\n"
          ],
          "name": "stdout"
        }
      ]
    },
    {
      "metadata": {
        "id": "Q0-SigrwwALR",
        "colab_type": "code",
        "outputId": "2e88b59d-04b6-4cd9-9182-b59d33cd3635",
        "colab": {
          "base_uri": "https://localhost:8080/",
          "height": 54
        }
      },
      "cell_type": "code",
      "source": [
        "words = list(model.wv.vocab)\n",
        "print(words)"
      ],
      "execution_count": 0,
      "outputs": [
        {
          "output_type": "stream",
          "text": [
            "['updated', 'readme', 'to', 'include', 'blog', 'mention', 'derp', 'make', 'docs', 'again', 'for', 'remove', 'test', 'file', 'commented', 'out', 'width', 'collapse', 'class', 'on', 'open', 'so', 'that', 'dropdowns', 'are', 'viewable', 'can', 'have', 'overflo', 'visible', 'in', 'which', 'is', 'present', 'during', 'entirity', 'of', 'transition', 'button', 'group', 'sizes', 'ie', 'fixes', 'adding', 'border', 'variable', 'making', 'dropdown', 'carets', 'use', 'vars', 'improve', 'fix', 'apple', 'touch', 'icons', 'examples', 'add', 'super', 'jank', 'horizontal', 'forms', 'and', 'input', 'prepend', 'append', 'enable', 'buttons', 'more', 'homepage', 'links', 'cleanup', 'ditching', 'the', 'middots', 'clean', 'up', 'link', 'direct', 'download', 'with', 'resolve', 'allowing', 'ons', 'at', 'beginning', 'end', 'spacing', 'issues', 'simplify', 'code', 'inline', 'search', 'need', 'floats', 'hacks', 'boom', 'rewrite', 'fluid', 'grid', 'mixin', 'be', 'simpler', 'per', 'overflow', 'within', 'an', 'groups', 'modal', 'footer', 'by', 'removing', 'px', 'added', 'margin', 'between', 'btn', 'merge', 'allow', 'custom', 'popover', 'arrow', 'colors', 'branch', 'luk', 'thomas', 'into', 'wip', 'vertical', 'align', 'issue', 'labels', 'block', 'level', 'box', 'sizing', 'text', 'indent', 'not', 'needed', 'replacement', 'unused', 'broken', 'lingering', 'tables', 'bug', 'table', 'double', 'borders', 'theads', 'colgroup', 'navbar', 'line', 'height', 'zerkms', 'master', 'conflicts', 'makefile', 'moved', 'responsive', 'from', 'overflowing', 'thumbnails', 'layouts', 'ensure', 'inputs', 'larger', 'than', 'max', 'grammar', 'js', 'md', 'middle', 'images', 'run', 'rebuild', 'gavrisimo', 'patch', 'update', 'system', 'mixins', 'less', 'new', 'tweak', 'right', 'example', 'doesn', 'go', 'all', 'way', 'off', 'page', 'gradient', 'escaping', 'them', 'notes', 'progress', 'bars', 'typo', 'pull', 'request', 'maxbublik', 'ignore', 'files', 'form', 'placeholder', 'color', 'massive', 'customize', 'variables', 'they', 're', 'being', 'used', 'around', 'using', 'soundready', 'site', 'thumbnail', 'change', 'title', 'attr', 'twitter', 'diagrams', 'pre', 'font', 'size', 'percentage', 'basefontsize', 'github', 'com', 'bootstrap', 'assets', 'zip', 'styles', 'nav', 'padding', 'negative', 'margins', 'same', 'stop', 'doing', 'oldschool', 'escape', 'substitution', 'latest', 'changes', 'build', 'css', 'new_grid', 'section', 'changing', 'elements', 'rebold', 'headings', 'family', 'var', 'inherit', 'instead', 'empty', 'string', 'weight', 'jumbotron', 'clear', 'jonathanmaron', 'fat', 'img', 'info', 'bp', 'fixed', 'copy', 'action', 'ability', 'set', 'non', 'existent', 'dist', 'dir', 'phony', 'makefil', 'version', 'min', 'phopkins', 'typeahead', 'friendly', 'give', 'pages', 'titles', 'based', 'names', 'burningtyger', 'tarsis', 'uglify', 'install', 'information', 'compiling', 'html', 'gruvii', 'type', 'such', 'via', 'basefontfamily', 'well', 'move', 'container', 'body', 'layout', 'davewasmer', 'background', 'actions', 'clearing', 'bar', 'resetting', 'striped', 'one', 'match', 'default', 'blue', 'green', 'charettes', 'small', 'caret', 'comment', 'bottom', 'should', 'dropup', 'hover', 'active', 'back', 'increase', 'specifity', 'pills', 'li', 'warning', 'components', 'dl', 'option']\n"
          ],
          "name": "stdout"
        }
      ]
    },
    {
      "metadata": {
        "id": "vrdkHDLHwALc",
        "colab_type": "code",
        "outputId": "6b5df171-9d50-4827-f054-037d3387fd0f",
        "colab": {
          "base_uri": "https://localhost:8080/",
          "height": 411
        }
      },
      "cell_type": "code",
      "source": [
        "indexes = []\n",
        "i = 0\n",
        "while i<len(sentence_vectors):\n",
        "  indexes.append((np.dot(bug_vector,sentence_vectors[i]),i))\n",
        "  i+=1\n",
        "\n",
        "indexes = sorted(indexes)\n",
        "print(indexes)\n",
        "i = len(indexes)-1\n",
        "count = 1\n",
        "while count<=5:\n",
        "  print(count, sentences[indexes[i][1]])\n",
        "  print()\n",
        "  i-=1\n",
        "  count+=1"
      ],
      "execution_count": 0,
      "outputs": [
        {
          "output_type": "stream",
          "text": [
            "[(-0.0007092624542823055, 43), (-0.0001964170104961427, 14), (-0.0001821475434174096, 56), (-0.00017029083697997868, 88), (-0.00014972429070758984, 86), (-0.00012641905017170532, 38), (-0.00012122442944759945, 9), (-0.00010581465025550724, 67), (-0.00010507463923088816, 30), (-0.00010503924100363629, 8), (-9.730271259952679e-05, 15), (-7.651432680611867e-05, 74), (-7.320434231954902e-05, 83), (-6.638992566718042e-05, 4), (-6.179889424081202e-05, 55), (-5.05142778331574e-05, 21), (-4.8493674375855626e-05, 50), (-4.268200889624504e-05, 99), (-4.066500715407912e-05, 2), (-3.7191124474669006e-05, 10), (-3.02095754380504e-05, 42), (-2.8994911597315782e-05, 60), (-2.7912160925268336e-05, 65), (-2.5416366380616928e-05, 71), (-1.9311648901454314e-05, 29), (-1.558369248912238e-05, 41), (-1.3535614452018568e-05, 24), (-1.1815097574640995e-05, 87), (-1.0931392383457006e-05, 61), (-7.4918955837464384e-06, 93), (-4.962783749573119e-06, 46), (-4.18002110061345e-06, 70), (0.0, 3), (1.9562028664176847e-06, 1), (2.837602516209722e-06, 51), (6.99689021571054e-06, 17), (9.120180447560244e-06, 96), (1.5215389532965351e-05, 54), (2.1301998713416937e-05, 22), (2.8708031581570916e-05, 75), (3.2103777903899066e-05, 48), (3.5695715478087315e-05, 92), (4.317139507806783e-05, 78), (4.7415702825772217e-05, 47), (5.083298715494635e-05, 0), (5.7253986805074777e-05, 26), (5.951256112465475e-05, 79), (6.323911592007957e-05, 45), (7.242852552204703e-05, 33), (7.598003457362742e-05, 5), (7.813177578980313e-05, 31), (7.88116719067358e-05, 49), (8.882270317917084e-05, 52), (8.963143423219572e-05, 11), (9.822935521599858e-05, 39), (9.827152573256787e-05, 76), (9.962420376565561e-05, 18), (0.00010424855635854204, 16), (0.00010642068857905632, 82), (0.00011776141789895418, 6), (0.00012174967353742691, 53), (0.00012244328135797126, 57), (0.0001234909138963842, 73), (0.0001304693591217911, 95), (0.0001388407169747409, 97), (0.00014360830719880352, 32), (0.0001501469272355667, 23), (0.00017366943943157034, 66), (0.0001756574545837951, 20), (0.0001763213598813212, 81), (0.00019489377082099248, 27), (0.000196131202662206, 68), (0.0002069301654674918, 72), (0.00022027824872084922, 80), (0.0002231211935263738, 19), (0.00022628732610372067, 44), (0.000250110755427159, 13), (0.0002689307896914454, 35), (0.0002691096072996149, 85), (0.00027183098145143665, 89), (0.00032922830203845966, 59), (0.0003329302586191727, 62), (0.00033700499527164896, 36), (0.0003537889776908215, 91), (0.000357592316456338, 12), (0.0004290798698544, 98), (0.00046291663783069805, 7), (0.0005813637182445356, 90), (0.000607941121869789, 94), (0.0006173264435948926, 34), (0.0006530838766255442, 25), (0.0006725054907031177, 40), (0.000736242350069317, 28), (0.0007477933084063121, 58), (0.0007477933084063121, 69), (0.0008328866076854047, 77), (0.0008328866076854047, 84), (0.0008739474376092633, 64), (0.0009161139026530605, 37), (0.0010884741438551865, 63)]\n",
            "1 Merge branch '2.0.2-wip' of github.com:twitter/bootstrap into 2.0.2-wip\n",
            "\n",
            "Conflicts:\n",
            "\tdocs/assets/bootstrap.zip\n",
            "\tdocs/assets/css/bootstrap-responsive.css\n",
            "\tdocs/assets/css/bootstrap.css\n",
            "\n",
            "2 in responsive layouts <767px, ensure inputs are not larger than 100% with box-sizing and a max-width\n",
            "\n",
            "3 Merge branch 'new_grid' into 2.0.2-wip\n",
            "\n",
            "Conflicts:\n",
            "\tdocs/assets/bootstrap.zip\n",
            "\tdocs/assets/css/bootstrap-responsive.css\n",
            "\tdocs/assets/css/bootstrap.css\n",
            "\tless/mixins.less\n",
            "\n",
            "4 Merge branch '2.0.2-wip' of github.com:twitter/bootstrap into 2.0.2-wip\n",
            "\n",
            "5 Merge branch '2.0.2-wip' of github.com:twitter/bootstrap into 2.0.2-wip\n",
            "\n"
          ],
          "name": "stdout"
        }
      ]
    }
  ]
}