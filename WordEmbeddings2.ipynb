{
  "nbformat": 4,
  "nbformat_minor": 0,
  "metadata": {
    "colab": {
      "name": "WordEmbeddings2.ipynb",
      "version": "0.3.2",
      "provenance": [],
      "include_colab_link": true
    },
    "kernelspec": {
      "display_name": "Python 3",
      "language": "python",
      "name": "python3"
    }
  },
  "cells": [
    {
      "cell_type": "markdown",
      "metadata": {
        "id": "view-in-github",
        "colab_type": "text"
      },
      "source": [
        "<a href=\"https://colab.research.google.com/github/sn2786/TSE/blob/master/WordEmbeddings2.ipynb\" target=\"_parent\"><img src=\"https://colab.research.google.com/assets/colab-badge.svg\" alt=\"Open In Colab\"/></a>"
      ]
    },
    {
      "metadata": {
        "id": "VXVqfwqgy-dP",
        "colab_type": "code",
        "outputId": "7a681675-1f69-4d7d-c8d4-51cb0525db0b",
        "colab": {
          "resources": {
            "http://localhost:8080/nbextensions/google.colab/files.js": {
              "data": "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",
              "ok": true,
              "headers": [
                [
                  "content-type",
                  "application/javascript"
                ]
              ],
              "status": 200,
              "status_text": ""
            }
          },
          "base_uri": "https://localhost:8080/",
          "height": 71
        }
      },
      "cell_type": "code",
      "source": [
        "from google.colab import files\n",
        "\n",
        "up = files.upload()\n"
      ],
      "execution_count": 0,
      "outputs": [
        {
          "output_type": "display_data",
          "data": {
            "text/html": [
              "\n",
              "     <input type=\"file\" id=\"files-8daf8c63-d5b4-4d51-a9ee-0937991c95dc\" name=\"files[]\" multiple disabled />\n",
              "     <output id=\"result-8daf8c63-d5b4-4d51-a9ee-0937991c95dc\">\n",
              "      Upload widget is only available when the cell has been executed in the\n",
              "      current browser session. Please rerun this cell to enable.\n",
              "      </output>\n",
              "      <script src=\"/nbextensions/google.colab/files.js\"></script> "
            ],
            "text/plain": [
              "<IPython.core.display.HTML object>"
            ]
          },
          "metadata": {
            "tags": []
          }
        },
        {
          "output_type": "stream",
          "text": [
            "Saving my.json to my (1).json\n"
          ],
          "name": "stdout"
        }
      ]
    },
    {
      "metadata": {
        "id": "GNdtPckRzZHn",
        "colab_type": "code",
        "outputId": "5b7e45f1-97d0-4696-834d-580c2c55fafd",
        "colab": {
          "base_uri": "https://localhost:8080/",
          "height": 2346
        }
      },
      "cell_type": "code",
      "source": [
        "import json\n",
        "import spacy\n",
        "\n",
        "from pprint import pprint\n",
        "\n",
        "with open('my.json') as f:\n",
        "    data = json.load(f)\n",
        "\n",
        "i=0\n",
        "for d in data:\n",
        "  print(i, d['commit']['message'])\n",
        "  i+=1"
      ],
      "execution_count": 0,
      "outputs": [
        {
          "output_type": "stream",
          "text": [
            "0 Updated readme to include blog mention\n",
            "1 2.0.2 derp\n",
            "2 make docs again for 2.0.2\n",
            "3 2.0.2\n",
            "4 remove test file\n",
            "5 remove commented out width\n",
            "6 remove collapse class on open so that dropdowns are viewable\n",
            "7 can't have overflo: visible for \"in\" which is present during entirity of transition.\n",
            "8 button group sizes for ie7 fixes\n",
            "9 adding border variable for dropdowns, making dropdown carets use dropdown vars\n",
            "10 improve button docs\n",
            "11 fix apple touch icons in examples\n",
            "12 add a super jank fix for horizontal-forms and .input-prepend/append in IE7\n",
            "13 enable buttons in input-append and input-prepend\n",
            "14 more homepage links cleanup, ditching the middots\n",
            "15 more homepage links cleanup\n",
            "16 clean up links on docs homepage and add link to direct download with docs\n",
            "17 resolve #1972, allowing add-ons at beginning and end of input-prepend/append\n",
            "18 fix more spacing issues with input append/prepend\n",
            "19 simplify code for input-prepend/append in inline and search forms\n",
            "20 remove need for floats and IE hacks for input-prepend and input-append--boom\n",
            "21 rewrite the fluid grid mixin to be simpler, per #2370\n",
            "22 fix overflow on .collapse.in to enable dropdowns within an open collapse\n",
            "23 enable button groups in modal-footer by removing 5px added margin between .btn\n",
            "24 merge #2476 to allow for custom popover arrow colors\n",
            "25 Merge branch 'luk3thomas-popover_arrow_colors' into 2.0.2-wip\n",
            "26 fix vertical align issue with labels in IE9\n",
            "27 add block level input mixin for border-box box-sizing\n",
            "28 remove text indent on carets (not needed) and add inline replacement mixin\n",
            "29 remove the unused text-indent on dropdown carets\n",
            "30 fix broken dropdowns in ie7 per #2333\n",
            "31 fix lingering tables bug\n",
            "32 fix table border bug with double borders on theads and use of colgroup\n",
            "33 use variable for navbar text line-height\n",
            "34 Merge branch 'zerkms-master' into 2.0.2-wip\n",
            "\n",
            "Conflicts:\n",
            "\tMakefile\n",
            "35 updated apple touch icons and moved input responsive fix from <480 to <767\n",
            "36 fix overflowing thumbnails in responsive <767px layouts\n",
            "37 in responsive layouts <767px, ensure inputs are not larger than 100% with box-sizing and a max-width\n",
            "38 Grammar fix in js/README.md\n",
            "39 vertical align middle on images, run make to rebuild\n",
            "40 Merge branch 'Gavrisimo-patch-1' into 2.0.2-wip\n",
            "41 update grid system mixins in less docs for new grid\n",
            "42 tweak button sizes on homepage\n",
            "43 ensure right align dropdown example doesn't go all the way off page\n",
            "44 fix gradient mixins by escaping them, add notes on progress bars\n",
            "45 fix js typo per #2471\n",
            "46 Merge pull request #2503 from maxbublik/patch-1\n",
            "\n",
            "ignore Apple Double files\n",
            "47 add vars for navbar search\n",
            "48 clean up search form in navbar, add new variable for placeholder text color\n",
            "49 fix #2510, docs typo\n",
            "50 massive update to customize page to include all the new variables (and ensure they're being used in the .less files)\n",
            "51 simplify notes around using button dropdowns\n",
            "52 remove unused images, update examples to include soundready\n",
            "53 add new example site thumbnail\n",
            "54 change title attr to re-include twitter\n",
            "55 remove unused example diagrams\n",
            "56 make pre font-size a percentage of @baseFontSize\n",
            "57 fix typo per #2494\n",
            "58 Merge branch '2.0.2-wip' of github.com:twitter/bootstrap into 2.0.2-wip\n",
            "\n",
            "Conflicts:\n",
            "\tdocs/assets/bootstrap.zip\n",
            "59 add button sizes to docs for button dropdowns, clean up styles for them\n",
            "60 make nav padding and negative margins the same\n",
            "61 stop doing oldschool escape substitution\n",
            "62 rebuild with latest grid changes - need 1.3 to build!\n",
            "63 Merge branch '2.0.2-wip' of github.com:twitter/bootstrap into 2.0.2-wip\n",
            "\n",
            "Conflicts:\n",
            "\tdocs/assets/bootstrap.zip\n",
            "\tdocs/assets/css/bootstrap-responsive.css\n",
            "\tdocs/assets/css/bootstrap.css\n",
            "64 Merge branch 'new_grid' into 2.0.2-wip\n",
            "\n",
            "Conflicts:\n",
            "\tdocs/assets/bootstrap.zip\n",
            "\tdocs/assets/css/bootstrap-responsive.css\n",
            "\tdocs/assets/css/bootstrap.css\n",
            "\tless/mixins.less\n",
            "65 ignore Apple Double files\n",
            "66 simplify buttons docs section by changing a buttons to button elements\n",
            "67 rebold headings\n",
            "68 fix the font-family var by using inherit instead of empty string, fix font-weight in docs for jumbotron\n",
            "69 Merge branch '2.0.2-wip' of github.com:twitter/bootstrap into 2.0.2-wip\n",
            "\n",
            "Conflicts:\n",
            "\tdocs/assets/bootstrap.zip\n",
            "70 clear up nav variables\n",
            "71 Merge pull request #2480 from jonathanmaron/master\n",
            "\n",
            "fat\n",
            "72 Add `vertical-align: middle;` to `img` elements\r\n",
            "\r\n",
            "More info: h5bp.com/i/440\n",
            "73 Fixed double copy action in Makefile.\n",
            "74 added ability to set custom colors for popover arrow mixin\n",
            "75 remove non existent dist dir from phony makefil\n",
            "76 rebuild\n",
            "77 Merge branch '2.0.2-wip' of github.com:twitter/bootstrap into 2.0.2-wip\n",
            "78 add version to min js\n",
            "79 Merge pull request #2177 from phopkins/typeahead_friendly\n",
            "\n",
            "[2.0.2-wip] Typeahead friendly\n",
            "80 give pages custom titles based on names\n",
            "81 Merge pull request #2449 from burningTyger/master\n",
            "\n",
            "Examples typo\n",
            "82 fix for typo\n",
            "83 Merge pull request #2443 from tarsis/master\n",
            "\n",
            "uglify-js install information in compiling section at less.html. Improve issue #1756 in 2.0.2 wip\n",
            "84 Merge branch '2.0.2-wip' of github.com:twitter/bootstrap into 2.0.2-wip\n",
            "85 Merge pull request #2436 from gruvii/2.0.2-wip\n",
            "\n",
            "Add new headings vars to type.less\n",
            "86 set font-family for inputs and such via basefontfamily\n",
            "87 adding well sizes\n",
            "88 Added use of new headings variables.\n",
            "89 move padding from container to body for max-width: 767; responsive layout\n",
            "90 Merge branch 'davewasmer-master' into 2.0.2-wip\n",
            "91 fix input grid sizing, fix background color on form actions and append add-ons\n",
            "92 clearing up progress bar docs and resetting the striped one to match default bar (blue instead of green)\n",
            "93 adding table variables\n",
            "94 Merge branch 'charettes-small-button-dropdowns-caret' into 2.0.2-wip\n",
            "\n",
            "Conflicts:\n",
            "\tless/dropdowns.less\n",
            "95 fix comment on bottom-up, should be dropup\n",
            "96 change dropdown hover/active color back to link color\n",
            "97 increase specifity of .pills li.active for dropdowns\n",
            "98 fix warning button issue per #2392 and add warning buttons to components\n",
            "99 clean up horizontal dl option and docs\n"
          ],
          "name": "stdout"
        }
      ]
    },
    {
      "metadata": {
        "id": "X_ABHr83wAK-",
        "colab_type": "code",
        "colab": {}
      },
      "cell_type": "code",
      "source": [
        "import os\n",
        "import nltk\n",
        "from tqdm import tqdm\n",
        "import numpy as np\n",
        "import gensim\n",
        "import string\n",
        "import pandas as pd"
      ],
      "execution_count": 0,
      "outputs": []
    },
    {
      "metadata": {
        "id": "Nk7Efz84DKlD",
        "colab_type": "code",
        "outputId": "9be5efde-7ea5-4421-a5b4-e6a1a9d2e401",
        "colab": {
          "base_uri": "https://localhost:8080/",
          "height": 221
        }
      },
      "cell_type": "code",
      "source": [
        "!wget https://s3.amazonaws.com/dl4j-distribution/GoogleNews-vectors-negative300.bin.gz"
      ],
      "execution_count": 0,
      "outputs": [
        {
          "output_type": "stream",
          "text": [
            "--2019-03-04 00:21:24--  https://s3.amazonaws.com/dl4j-distribution/GoogleNews-vectors-negative300.bin.gz\n",
            "Resolving s3.amazonaws.com (s3.amazonaws.com)... 52.216.96.29\n",
            "Connecting to s3.amazonaws.com (s3.amazonaws.com)|52.216.96.29|:443... connected.\n",
            "HTTP request sent, awaiting response... 200 OK\n",
            "Length: 1647046227 (1.5G) [application/x-gzip]\n",
            "Saving to: ‘GoogleNews-vectors-negative300.bin.gz’\n",
            "\n",
            "GoogleNews-vectors- 100%[===================>]   1.53G  17.9MB/s    in 64s     \n",
            "\n",
            "2019-03-04 00:22:28 (24.6 MB/s) - ‘GoogleNews-vectors-negative300.bin.gz’ saved [1647046227/1647046227]\n",
            "\n",
            "gzip: GoogleNews-vectors-negative300.bin..gz: No such file or directory\n"
          ],
          "name": "stdout"
        }
      ]
    },
    {
      "metadata": {
        "id": "g3kVigw9FNbj",
        "colab_type": "code",
        "colab": {}
      },
      "cell_type": "code",
      "source": [
        "!gunzip GoogleNews-vectors-negative300.bin.gz"
      ],
      "execution_count": 0,
      "outputs": []
    },
    {
      "metadata": {
        "id": "EFmBXP3rCzoj",
        "colab_type": "code",
        "colab": {}
      },
      "cell_type": "code",
      "source": [
        "from gensim.models import KeyedVectors\n",
        "filename = 'GoogleNews-vectors-negative300.bin'\n",
        "model = KeyedVectors.load_word2vec_format(filename, binary=True)"
      ],
      "execution_count": 0,
      "outputs": []
    },
    {
      "metadata": {
        "id": "mU0OROvuwALF",
        "colab_type": "code",
        "outputId": "ff06bd26-5039-4189-ce71-19b350f08fff",
        "colab": {
          "base_uri": "https://localhost:8080/",
          "height": 1737
        }
      },
      "cell_type": "code",
      "source": [
        "sentences = []\n",
        "for d in data:\n",
        "  sentences.append(d['commit']['message'])\n",
        "\n",
        "  \n",
        "preprocessed_sentence = []\n",
        "for sentence in sentences:\n",
        "  preprocessed_sentence.append(gensim.utils.simple_preprocess(sentence))\n",
        "\n",
        "for sentence in preprocessed_sentence:\n",
        "  print(sentence)"
      ],
      "execution_count": 0,
      "outputs": [
        {
          "output_type": "stream",
          "text": [
            "['updated', 'readme', 'to', 'include', 'blog', 'mention']\n",
            "['derp']\n",
            "['make', 'docs', 'again', 'for']\n",
            "[]\n",
            "['remove', 'test', 'file']\n",
            "['remove', 'commented', 'out', 'width']\n",
            "['remove', 'collapse', 'class', 'on', 'open', 'so', 'that', 'dropdowns', 'are', 'viewable']\n",
            "['can', 'have', 'overflo', 'visible', 'for', 'in', 'which', 'is', 'present', 'during', 'entirity', 'of', 'transition']\n",
            "['button', 'group', 'sizes', 'for', 'ie', 'fixes']\n",
            "['adding', 'border', 'variable', 'for', 'dropdowns', 'making', 'dropdown', 'carets', 'use', 'dropdown', 'vars']\n",
            "['improve', 'button', 'docs']\n",
            "['fix', 'apple', 'touch', 'icons', 'in', 'examples']\n",
            "['add', 'super', 'jank', 'fix', 'for', 'horizontal', 'forms', 'and', 'input', 'prepend', 'append', 'in', 'ie']\n",
            "['enable', 'buttons', 'in', 'input', 'append', 'and', 'input', 'prepend']\n",
            "['more', 'homepage', 'links', 'cleanup', 'ditching', 'the', 'middots']\n",
            "['more', 'homepage', 'links', 'cleanup']\n",
            "['clean', 'up', 'links', 'on', 'docs', 'homepage', 'and', 'add', 'link', 'to', 'direct', 'download', 'with', 'docs']\n",
            "['resolve', 'allowing', 'add', 'ons', 'at', 'beginning', 'and', 'end', 'of', 'input', 'prepend', 'append']\n",
            "['fix', 'more', 'spacing', 'issues', 'with', 'input', 'append', 'prepend']\n",
            "['simplify', 'code', 'for', 'input', 'prepend', 'append', 'in', 'inline', 'and', 'search', 'forms']\n",
            "['remove', 'need', 'for', 'floats', 'and', 'ie', 'hacks', 'for', 'input', 'prepend', 'and', 'input', 'append', 'boom']\n",
            "['rewrite', 'the', 'fluid', 'grid', 'mixin', 'to', 'be', 'simpler', 'per']\n",
            "['fix', 'overflow', 'on', 'collapse', 'in', 'to', 'enable', 'dropdowns', 'within', 'an', 'open', 'collapse']\n",
            "['enable', 'button', 'groups', 'in', 'modal', 'footer', 'by', 'removing', 'px', 'added', 'margin', 'between', 'btn']\n",
            "['merge', 'to', 'allow', 'for', 'custom', 'popover', 'arrow', 'colors']\n",
            "['merge', 'branch', 'luk', 'thomas', 'into', 'wip']\n",
            "['fix', 'vertical', 'align', 'issue', 'with', 'labels', 'in', 'ie']\n",
            "['add', 'block', 'level', 'input', 'mixin', 'for', 'border', 'box', 'box', 'sizing']\n",
            "['remove', 'text', 'indent', 'on', 'carets', 'not', 'needed', 'and', 'add', 'inline', 'replacement', 'mixin']\n",
            "['remove', 'the', 'unused', 'text', 'indent', 'on', 'dropdown', 'carets']\n",
            "['fix', 'broken', 'dropdowns', 'in', 'ie', 'per']\n",
            "['fix', 'lingering', 'tables', 'bug']\n",
            "['fix', 'table', 'border', 'bug', 'with', 'double', 'borders', 'on', 'theads', 'and', 'use', 'of', 'colgroup']\n",
            "['use', 'variable', 'for', 'navbar', 'text', 'line', 'height']\n",
            "['merge', 'branch', 'zerkms', 'master', 'into', 'wip', 'conflicts', 'makefile']\n",
            "['updated', 'apple', 'touch', 'icons', 'and', 'moved', 'input', 'responsive', 'fix', 'from', 'to']\n",
            "['fix', 'overflowing', 'thumbnails', 'in', 'responsive', 'px', 'layouts']\n",
            "['in', 'responsive', 'layouts', 'px', 'ensure', 'inputs', 'are', 'not', 'larger', 'than', 'with', 'box', 'sizing', 'and', 'max', 'width']\n",
            "['grammar', 'fix', 'in', 'js', 'readme', 'md']\n",
            "['vertical', 'align', 'middle', 'on', 'images', 'run', 'make', 'to', 'rebuild']\n",
            "['merge', 'branch', 'gavrisimo', 'patch', 'into', 'wip']\n",
            "['update', 'grid', 'system', 'mixins', 'in', 'less', 'docs', 'for', 'new', 'grid']\n",
            "['tweak', 'button', 'sizes', 'on', 'homepage']\n",
            "['ensure', 'right', 'align', 'dropdown', 'example', 'doesn', 'go', 'all', 'the', 'way', 'off', 'page']\n",
            "['fix', 'gradient', 'mixins', 'by', 'escaping', 'them', 'add', 'notes', 'on', 'progress', 'bars']\n",
            "['fix', 'js', 'typo', 'per']\n",
            "['merge', 'pull', 'request', 'from', 'maxbublik', 'patch', 'ignore', 'apple', 'double', 'files']\n",
            "['add', 'vars', 'for', 'navbar', 'search']\n",
            "['clean', 'up', 'search', 'form', 'in', 'navbar', 'add', 'new', 'variable', 'for', 'placeholder', 'text', 'color']\n",
            "['fix', 'docs', 'typo']\n",
            "['massive', 'update', 'to', 'customize', 'page', 'to', 'include', 'all', 'the', 'new', 'variables', 'and', 'ensure', 'they', 're', 'being', 'used', 'in', 'the', 'less', 'files']\n",
            "['simplify', 'notes', 'around', 'using', 'button', 'dropdowns']\n",
            "['remove', 'unused', 'images', 'update', 'examples', 'to', 'include', 'soundready']\n",
            "['add', 'new', 'example', 'site', 'thumbnail']\n",
            "['change', 'title', 'attr', 'to', 're', 'include', 'twitter']\n",
            "['remove', 'unused', 'example', 'diagrams']\n",
            "['make', 'pre', 'font', 'size', 'percentage', 'of', 'basefontsize']\n",
            "['fix', 'typo', 'per']\n",
            "['merge', 'branch', 'wip', 'of', 'github', 'com', 'twitter', 'bootstrap', 'into', 'wip', 'conflicts', 'docs', 'assets', 'bootstrap', 'zip']\n",
            "['add', 'button', 'sizes', 'to', 'docs', 'for', 'button', 'dropdowns', 'clean', 'up', 'styles', 'for', 'them']\n",
            "['make', 'nav', 'padding', 'and', 'negative', 'margins', 'the', 'same']\n",
            "['stop', 'doing', 'oldschool', 'escape', 'substitution']\n",
            "['rebuild', 'with', 'latest', 'grid', 'changes', 'need', 'to', 'build']\n",
            "['merge', 'branch', 'wip', 'of', 'github', 'com', 'twitter', 'bootstrap', 'into', 'wip', 'conflicts', 'docs', 'assets', 'bootstrap', 'zip', 'docs', 'assets', 'css', 'bootstrap', 'responsive', 'css', 'docs', 'assets', 'css', 'bootstrap', 'css']\n",
            "['merge', 'branch', 'new_grid', 'into', 'wip', 'conflicts', 'docs', 'assets', 'bootstrap', 'zip', 'docs', 'assets', 'css', 'bootstrap', 'responsive', 'css', 'docs', 'assets', 'css', 'bootstrap', 'css', 'less', 'mixins', 'less']\n",
            "['ignore', 'apple', 'double', 'files']\n",
            "['simplify', 'buttons', 'docs', 'section', 'by', 'changing', 'buttons', 'to', 'button', 'elements']\n",
            "['rebold', 'headings']\n",
            "['fix', 'the', 'font', 'family', 'var', 'by', 'using', 'inherit', 'instead', 'of', 'empty', 'string', 'fix', 'font', 'weight', 'in', 'docs', 'for', 'jumbotron']\n",
            "['merge', 'branch', 'wip', 'of', 'github', 'com', 'twitter', 'bootstrap', 'into', 'wip', 'conflicts', 'docs', 'assets', 'bootstrap', 'zip']\n",
            "['clear', 'up', 'nav', 'variables']\n",
            "['merge', 'pull', 'request', 'from', 'jonathanmaron', 'master', 'fat']\n",
            "['add', 'vertical', 'align', 'middle', 'to', 'img', 'elements', 'more', 'info', 'bp', 'com']\n",
            "['fixed', 'double', 'copy', 'action', 'in', 'makefile']\n",
            "['added', 'ability', 'to', 'set', 'custom', 'colors', 'for', 'popover', 'arrow', 'mixin']\n",
            "['remove', 'non', 'existent', 'dist', 'dir', 'from', 'phony', 'makefil']\n",
            "['rebuild']\n",
            "['merge', 'branch', 'wip', 'of', 'github', 'com', 'twitter', 'bootstrap', 'into', 'wip']\n",
            "['add', 'version', 'to', 'min', 'js']\n",
            "['merge', 'pull', 'request', 'from', 'phopkins', 'wip', 'typeahead', 'friendly']\n",
            "['give', 'pages', 'custom', 'titles', 'based', 'on', 'names']\n",
            "['merge', 'pull', 'request', 'from', 'burningtyger', 'master', 'examples', 'typo']\n",
            "['fix', 'for', 'typo']\n",
            "['merge', 'pull', 'request', 'from', 'tarsis', 'master', 'uglify', 'js', 'install', 'information', 'in', 'compiling', 'section', 'at', 'less', 'html', 'improve', 'issue', 'in', 'wip']\n",
            "['merge', 'branch', 'wip', 'of', 'github', 'com', 'twitter', 'bootstrap', 'into', 'wip']\n",
            "['merge', 'pull', 'request', 'from', 'gruvii', 'wip', 'add', 'new', 'headings', 'vars', 'to', 'type', 'less']\n",
            "['set', 'font', 'family', 'for', 'inputs', 'and', 'such', 'via', 'basefontfamily']\n",
            "['adding', 'well', 'sizes']\n",
            "['added', 'use', 'of', 'new', 'headings', 'variables']\n",
            "['move', 'padding', 'from', 'container', 'to', 'body', 'for', 'max', 'width', 'responsive', 'layout']\n",
            "['merge', 'branch', 'davewasmer', 'master', 'into', 'wip']\n",
            "['fix', 'input', 'grid', 'sizing', 'fix', 'background', 'color', 'on', 'form', 'actions', 'and', 'append', 'add', 'ons']\n",
            "['clearing', 'up', 'progress', 'bar', 'docs', 'and', 'resetting', 'the', 'striped', 'one', 'to', 'match', 'default', 'bar', 'blue', 'instead', 'of', 'green']\n",
            "['adding', 'table', 'variables']\n",
            "['merge', 'branch', 'charettes', 'small', 'button', 'dropdowns', 'caret', 'into', 'wip', 'conflicts', 'less', 'dropdowns', 'less']\n",
            "['fix', 'comment', 'on', 'bottom', 'up', 'should', 'be', 'dropup']\n",
            "['change', 'dropdown', 'hover', 'active', 'color', 'back', 'to', 'link', 'color']\n",
            "['increase', 'specifity', 'of', 'pills', 'li', 'active', 'for', 'dropdowns']\n",
            "['fix', 'warning', 'button', 'issue', 'per', 'and', 'add', 'warning', 'buttons', 'to', 'components']\n",
            "['clean', 'up', 'horizontal', 'dl', 'option', 'and', 'docs']\n"
          ],
          "name": "stdout"
        }
      ]
    },
    {
      "metadata": {
        "id": "TD8cyZ2pwALL",
        "colab_type": "code",
        "outputId": "d8287306-44ba-45b2-b34b-95a53f607ac5",
        "colab": {
          "base_uri": "https://localhost:8080/",
          "height": 122
        }
      },
      "cell_type": "code",
      "source": [
        "sentence_vectors = []\n",
        "for sentence in preprocessed_sentence:\n",
        "  vector = np.zeros(300)\n",
        "  for word in sentence:\n",
        "    if word in model.wv:\n",
        "      vector += np.array(model.wv[word])    \n",
        "  sentence_vectors.append(vector)\n",
        "\n",
        "print(np.shape(sentence_vectors))"
      ],
      "execution_count": 0,
      "outputs": [
        {
          "output_type": "stream",
          "text": [
            "(100, 300)\n"
          ],
          "name": "stdout"
        },
        {
          "output_type": "stream",
          "text": [
            "/usr/local/lib/python3.6/dist-packages/ipykernel_launcher.py:5: DeprecationWarning: Call to deprecated `wv` (Attribute will be removed in 4.0.0, use self instead).\n",
            "  \"\"\"\n",
            "/usr/local/lib/python3.6/dist-packages/ipykernel_launcher.py:6: DeprecationWarning: Call to deprecated `wv` (Attribute will be removed in 4.0.0, use self instead).\n",
            "  \n"
          ],
          "name": "stderr"
        }
      ]
    },
    {
      "metadata": {
        "id": "2G_FHatQ4DsH",
        "colab_type": "code",
        "outputId": "2a69bd8c-e2d2-4170-ad3a-2428419205b0",
        "colab": {
          "base_uri": "https://localhost:8080/",
          "height": 156
        }
      },
      "cell_type": "code",
      "source": [
        "bug = 'merged branch not working'\n",
        "preprocessed_bug = gensim.utils.simple_preprocess(bug)\n",
        "bug_vector = None\n",
        "for word in preprocessed_bug:\n",
        "  if word in model.wv:\n",
        "    if bug_vector is None:\n",
        "      bug_vector = np.array(model.wv[word])\n",
        "    else:\n",
        "      bug_vector += np.array(model.wv[word])\n",
        "\n",
        "print(np.shape(bug_vector))\n",
        "\n"
      ],
      "execution_count": 0,
      "outputs": [
        {
          "output_type": "stream",
          "text": [
            "(300,)\n"
          ],
          "name": "stdout"
        },
        {
          "output_type": "stream",
          "text": [
            "/usr/local/lib/python3.6/dist-packages/ipykernel_launcher.py:5: DeprecationWarning: Call to deprecated `wv` (Attribute will be removed in 4.0.0, use self instead).\n",
            "  \"\"\"\n",
            "/usr/local/lib/python3.6/dist-packages/ipykernel_launcher.py:7: DeprecationWarning: Call to deprecated `wv` (Attribute will be removed in 4.0.0, use self instead).\n",
            "  import sys\n",
            "/usr/local/lib/python3.6/dist-packages/ipykernel_launcher.py:9: DeprecationWarning: Call to deprecated `wv` (Attribute will be removed in 4.0.0, use self instead).\n",
            "  if __name__ == '__main__':\n"
          ],
          "name": "stderr"
        }
      ]
    },
    {
      "metadata": {
        "id": "Q0-SigrwwALR",
        "colab_type": "code",
        "outputId": "c9155f04-e765-4d13-bcaa-01ed899ba57e",
        "colab": {
          "base_uri": "https://localhost:8080/",
          "height": 241
        }
      },
      "cell_type": "code",
      "source": [
        "words = list(model.wv.vocab)\n",
        "print(words)"
      ],
      "execution_count": 0,
      "outputs": [
        {
          "output_type": "stream",
          "text": [
            "/usr/local/lib/python3.6/dist-packages/ipykernel_launcher.py:1: DeprecationWarning: Call to deprecated `wv` (Attribute will be removed in 4.0.0, use self instead).\n",
            "  \"\"\"Entry point for launching an IPython kernel.\n",
            "IOPub data rate exceeded.\n",
            "The notebook server will temporarily stop sending output\n",
            "to the client in order to avoid crashing it.\n",
            "To change this limit, set the config variable\n",
            "`--NotebookApp.iopub_data_rate_limit`.\n",
            "\n",
            "Current values:\n",
            "NotebookApp.iopub_data_rate_limit=1000000.0 (bytes/sec)\n",
            "NotebookApp.rate_limit_window=3.0 (secs)\n",
            "\n"
          ],
          "name": "stderr"
        }
      ]
    },
    {
      "metadata": {
        "id": "vrdkHDLHwALc",
        "colab_type": "code",
        "outputId": "af3cd8f6-35c8-44d0-c8c8-231134dd9f5a",
        "colab": {
          "base_uri": "https://localhost:8080/",
          "height": 547
        }
      },
      "cell_type": "code",
      "source": [
        "indexes = []\n",
        "i = 0\n",
        "while i<len(sentence_vectors):\n",
        "  indexes.append((np.dot(bug_vector,sentence_vectors[i]),i))\n",
        "  i+=1\n",
        "\n",
        "indexes = sorted(indexes)\n",
        "print(indexes)\n",
        "i = len(indexes)-1\n",
        "count = 1\n",
        "while count<=5:\n",
        "  print(count, sentences[indexes[i][1]])\n",
        "  print()\n",
        "  i-=1\n",
        "  count+=1"
      ],
      "execution_count": 0,
      "outputs": [
        {
          "output_type": "stream",
          "text": [
            "[(0.0, 3), (0.6238766567548737, 1), (1.162584729376249, 67), (2.59900648414623, 76), (3.6800524987193057, 93), (3.8127897013910115, 78), (3.8248701345769405, 70), (3.946747695445083, 82), (4.095363235566765, 57), (4.43789597414434, 45), (4.649623801931739, 49), (4.717628563055769, 10), (4.835428967038752, 87), (4.956133344268892, 47), (5.9405345290433615, 31), (6.262043071095832, 4), (6.653400963288732, 2), (6.655634623559308, 0), (6.732016625916003, 61), (7.43246233696118, 5), (7.789198243714054, 55), (7.936695834269358, 99), (8.159573328244733, 97), (8.207259950810112, 8), (8.256560503446963, 88), (8.620187976106536, 33), (8.729475507396273, 65), (8.800770039728377, 30), (9.261680835072184, 54), (9.311223395809066, 15), (9.380834703042638, 56), (9.69437624688726, 42), (9.832854076616059, 51), (10.171693543668425, 73), (10.176095381837513, 52), (10.256721444209688, 53), (10.512171707690868, 11), (10.52251019369578, 38), (10.59480524994433, 86), (12.170754837221466, 60), (12.841480712406337, 29), (13.227527176903095, 14), (13.551304893480847, 74), (13.675843713397626, 36), (13.784673842979828, 21), (14.154172475507949, 98), (14.338882673997432, 13), (14.376566452585394, 18), (14.454190698714228, 62), (14.633038180705626, 44), (14.687767389637884, 75), (14.863389502846985, 80), (15.227608499408234, 27), (15.376603451961728, 59), (15.430819444911322, 17), (15.63404596794544, 95), (15.672356634640892, 19), (15.792281812871806, 41), (15.93047544414003, 9), (15.975795583872241, 32), (15.985125607847294, 66), (16.70800806148145, 72), (17.088356802763883, 26), (17.306881760567194, 96), (18.123819758096943, 20), (18.668707468677894, 79), (18.97396749566542, 23), (19.019436525268247, 12), (19.122495248244377, 89), (19.16747811838286, 39), (19.220044775822316, 28), (19.28247696267499, 71), (19.556987203050085, 24), (19.82771166458815, 48), (19.86531971435761, 6), (19.897925456345547, 7), (20.57964277361316, 81), (22.41143207877758, 35), (23.197015086989268, 25), (24.247198259166908, 22), (24.277512206780102, 16), (24.631946298017283, 91), (24.970381508974242, 90), (25.01083875168524, 92), (25.393094001963618, 40), (26.336743752486655, 85), (26.869984314151225, 37), (26.957309162025922, 46), (27.406222930527292, 43), (28.088466558705022, 34), (28.432103153128992, 77), (28.432103153128992, 84), (28.474049737327732, 68), (34.005887833598536, 50), (37.81601025183045, 94), (39.594041754098726, 83), (40.46252652192197, 58), (40.46252652192197, 69), (61.95765193719126, 64), (63.699466498495894, 63)]\n",
            "1 Merge branch '2.0.2-wip' of github.com:twitter/bootstrap into 2.0.2-wip\n",
            "\n",
            "Conflicts:\n",
            "\tdocs/assets/bootstrap.zip\n",
            "\tdocs/assets/css/bootstrap-responsive.css\n",
            "\tdocs/assets/css/bootstrap.css\n",
            "\n",
            "2 Merge branch 'new_grid' into 2.0.2-wip\n",
            "\n",
            "Conflicts:\n",
            "\tdocs/assets/bootstrap.zip\n",
            "\tdocs/assets/css/bootstrap-responsive.css\n",
            "\tdocs/assets/css/bootstrap.css\n",
            "\tless/mixins.less\n",
            "\n",
            "3 Merge branch '2.0.2-wip' of github.com:twitter/bootstrap into 2.0.2-wip\n",
            "\n",
            "Conflicts:\n",
            "\tdocs/assets/bootstrap.zip\n",
            "\n",
            "4 Merge branch '2.0.2-wip' of github.com:twitter/bootstrap into 2.0.2-wip\n",
            "\n",
            "Conflicts:\n",
            "\tdocs/assets/bootstrap.zip\n",
            "\n",
            "5 Merge pull request #2443 from tarsis/master\n",
            "\n",
            "uglify-js install information in compiling section at less.html. Improve issue #1756 in 2.0.2 wip\n",
            "\n"
          ],
          "name": "stdout"
        }
      ]
    },
    {
      "metadata": {
        "id": "pcOldqQ0GakP",
        "colab_type": "code",
        "colab": {}
      },
      "cell_type": "code",
      "source": [
        ""
      ],
      "execution_count": 0,
      "outputs": []
    }
  ]
}